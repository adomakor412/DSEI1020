{
 "cells": [
  {
   "cell_type": "code",
   "execution_count": 1,
   "metadata": {},
   "outputs": [],
   "source": [
    "import requests\n",
    "import pandas as pd\n",
    "from matplotlib import pyplot as plt\n",
    "%matplotlib inline"
   ]
  },
  {
   "cell_type": "code",
   "execution_count": 40,
   "metadata": {},
   "outputs": [
    {
     "name": "stdout",
     "output_type": "stream",
     "text": [
      "Collecting wordcloud\n",
      "\u001b[?25l  Downloading https://files.pythonhosted.org/packages/c7/07/e43a7094a58e602e85a09494d9b99e7b5d71ca4789852287386e21e74c33/wordcloud-1.5.0-cp37-cp37m-macosx_10_6_x86_64.whl (157kB)\n",
      "\u001b[K    100% |████████████████████████████████| 163kB 652kB/s ta 0:00:01\n",
      "\u001b[?25hRequirement already satisfied: numpy>=1.6.1 in /anaconda3/lib/python3.7/site-packages (from wordcloud) (1.15.4)\n",
      "Requirement already satisfied: pillow in /anaconda3/lib/python3.7/site-packages (from wordcloud) (5.3.0)\n",
      "Installing collected packages: wordcloud\n",
      "Successfully installed wordcloud-1.5.0\n"
     ]
    }
   ],
   "source": [
    "!pip install wordcloud"
   ]
  },
  {
   "cell_type": "code",
   "execution_count": 51,
   "metadata": {},
   "outputs": [],
   "source": [
    "from nltk.corpus import stopwords\n",
    "import nltk\n",
    "import wordcloud"
   ]
  },
  {
   "cell_type": "code",
   "execution_count": 43,
   "metadata": {},
   "outputs": [],
   "source": [
    "ti_url = 'https://www.gutenberg.org/files/120/120-0.txt'\n",
    "jh_url = 'https://www.gutenberg.org/files/43/43-0.txt'\n",
    "md_url = 'https://www.gutenberg.org/files/2701/2701-0.txt'"
   ]
  },
  {
   "cell_type": "code",
   "execution_count": 44,
   "metadata": {},
   "outputs": [],
   "source": [
    "req = requests.get(ti_url)"
   ]
  },
  {
   "cell_type": "code",
   "execution_count": 45,
   "metadata": {},
   "outputs": [],
   "source": [
    "ti_text = req.text\n",
    "ti_text[:250]\n",
    "ti_text = (req.text.split('*** START OF THIS PROJECT GUTENBERG EBOOK'))[-1]\n",
    "ti_text = ti_text.strip()\n",
    "ti_text ='\\n'.join(ti_text.split('\\r\\n')[20:])\n",
    "ti_text = ti_text.split('\\n')[:-360]\n",
    "ti_text = '\\n'.join(ti_text)"
   ]
  },
  {
   "cell_type": "code",
   "execution_count": 53,
   "metadata": {},
   "outputs": [
    {
     "data": {
      "text/plain": [
       "['to', 's', 'l', 'o', 'an', 'american', 'gentleman', 'in']"
      ]
     },
     "execution_count": 53,
     "metadata": {},
     "output_type": "execute_result"
    }
   ],
   "source": [
    "tokenizer = nltk.tokenize.RegexpTokenizer('\\w+')\n",
    "ti_tokenizer = tokenizer.tokenize(ti_text)\n",
    "ti_words = [token.lower() for token in ti_tokenizer]\n",
    "ti_words[:8]"
   ]
  },
  {
   "cell_type": "code",
   "execution_count": 54,
   "metadata": {},
   "outputs": [
    {
     "name": "stderr",
     "output_type": "stream",
     "text": [
      "[nltk_data] Downloading package stopwords to\n",
      "[nltk_data]     /Users/ronaldadomako/nltk_data...\n",
      "[nltk_data]   Unzipping corpora/stopwords.zip.\n"
     ]
    }
   ],
   "source": [
    "nltk.download('stopwords')\n",
    "sw = stopwords.words('english')"
   ]
  },
  {
   "cell_type": "code",
   "execution_count": 55,
   "metadata": {},
   "outputs": [
    {
     "data": {
      "text/plain": [
       "['i', 'me', 'my', 'myself', 'we', 'our', 'ours', 'ourselves', 'you', \"you're\"]"
      ]
     },
     "execution_count": 55,
     "metadata": {},
     "output_type": "execute_result"
    }
   ],
   "source": [
    "sw[:10]"
   ]
  },
  {
   "cell_type": "code",
   "execution_count": 56,
   "metadata": {},
   "outputs": [],
   "source": [
    "ti_filtered = [word for word in ti_words if word not in sw]"
   ]
  },
  {
   "cell_type": "code",
   "execution_count": 57,
   "metadata": {},
   "outputs": [
    {
     "data": {
      "text/plain": [
       "['l',\n",
       " 'american',\n",
       " 'gentleman',\n",
       " 'accordance',\n",
       " 'whose',\n",
       " 'classic',\n",
       " 'taste',\n",
       " 'following',\n",
       " 'narrative',\n",
       " 'designed']"
      ]
     },
     "execution_count": 57,
     "metadata": {},
     "output_type": "execute_result"
    }
   ],
   "source": [
    "ti_filtered[:10]"
   ]
  },
  {
   "cell_type": "code",
   "execution_count": 62,
   "metadata": {},
   "outputs": [
    {
     "data": {
      "image/png": "[encoded data removed]",
      "text/plain": [
       "<Figure size 432x288 with 1 Axes>"
      ]
     },
     "metadata": {
      "needs_background": "light"
     },
     "output_type": "display_data"
    }
   ],
   "source": [
    "ti_freqdist = nltk.FreqDist(ti_filtered)\n",
    "ti_freqdist.plot(25)"
   ]
  },
  {
   "cell_type": "code",
   "execution_count": 60,
   "metadata": {},
   "outputs": [
    {
     "data": {
      "text/plain": [
       "nltk.probability.FreqDist"
      ]
     },
     "execution_count": 60,
     "metadata": {},
     "output_type": "execute_result"
    }
   ],
   "source": [
    "type(ti_freqdist)"
   ]
  },
  {
   "cell_type": "code",
   "execution_count": 63,
   "metadata": {},
   "outputs": [
    {
     "name": "stdout",
     "output_type": "stream",
     "text": [
      "Help on FreqDist in module nltk.probability object:\n",
      "\n",
      "class FreqDist(collections.Counter)\n",
      " |  FreqDist(samples=None)\n",
      " |  \n",
      " |  A frequency distribution for the outcomes of an experiment.  A\n",
      " |  frequency distribution records the number of times each outcome of\n",
      " |  an experiment has occurred.  For example, a frequency distribution\n",
      " |  could be used to record the frequency of each word type in a\n",
      " |  document.  Formally, a frequency distribution can be defined as a\n",
      " |  function mapping from each sample to the number of times that\n",
      " |  sample occurred as an outcome.\n",
      " |  \n",
      " |  Frequency distributions are generally constructed by running a\n",
      " |  number of experiments, and incrementing the count for a sample\n",
      " |  every time it is an outcome of an experiment.  For example, the\n",
      " |  following code will produce a frequency distribution that encodes\n",
      " |  how often each word occurs in a text:\n",
      " |  \n",
      " |      >>> from nltk.tokenize import word_tokenize\n",
      " |      >>> from nltk.probability import FreqDist\n",
      " |      >>> sent = 'This is an example sentence'\n",
      " |      >>> fdist = FreqDist()\n",
      " |      >>> for word in word_tokenize(sent):\n",
      " |      ...    fdist[word.lower()] += 1\n",
      " |  \n",
      " |  An equivalent way to do this is with the initializer:\n",
      " |  \n",
      " |      >>> fdist = FreqDist(word.lower() for word in word_tokenize(sent))\n",
      " |  \n",
      " |  Method resolution order:\n",
      " |      FreqDist\n",
      " |      collections.Counter\n",
      " |      builtins.dict\n",
      " |      builtins.object\n",
      " |  \n",
      " |  Methods defined here:\n",
      " |  \n",
      " |  B(self)\n",
      " |      Return the total number of sample values (or \"bins\") that\n",
      " |      have counts greater than zero.  For the total\n",
      " |      number of sample outcomes recorded, use ``FreqDist.N()``.\n",
      " |      (FreqDist.B() is the same as len(FreqDist).)\n",
      " |      \n",
      " |      :rtype: int\n",
      " |  \n",
      " |  N(self)\n",
      " |      Return the total number of sample outcomes that have been\n",
      " |      recorded by this FreqDist.  For the number of unique\n",
      " |      sample values (or bins) with counts greater than zero, use\n",
      " |      ``FreqDist.B()``.\n",
      " |      \n",
      " |      :rtype: int\n",
      " |  \n",
      " |  Nr(self, r, bins=None)\n",
      " |  \n",
      " |  __add__(self, other)\n",
      " |      Add counts from two counters.\n",
      " |      \n",
      " |      >>> FreqDist('abbb') + FreqDist('bcc')\n",
      " |      FreqDist({'b': 4, 'c': 2, 'a': 1})\n",
      " |  \n",
      " |  __and__(self, other)\n",
      " |      Intersection is the minimum of corresponding counts.\n",
      " |      \n",
      " |      >>> FreqDist('abbb') & FreqDist('bcc')\n",
      " |      FreqDist({'b': 1})\n",
      " |  \n",
      " |  __delitem__(self, key)\n",
      " |      Override ``Counter.__delitem__()`` to invalidate the cached N\n",
      " |  \n",
      " |  __ge__ lambda self, other\n",
      " |      # @total_ordering doesn't work here, since the class inherits from a builtin class\n",
      " |  \n",
      " |  __gt__ lambda self, other\n",
      " |  \n",
      " |  __init__(self, samples=None)\n",
      " |      Construct a new frequency distribution.  If ``samples`` is\n",
      " |      given, then the frequency distribution will be initialized\n",
      " |      with the count of each object in ``samples``; otherwise, it\n",
      " |      will be initialized to be empty.\n",
      " |      \n",
      " |      In particular, ``FreqDist()`` returns an empty frequency\n",
      " |      distribution; and ``FreqDist(samples)`` first creates an empty\n",
      " |      frequency distribution, and then calls ``update`` with the\n",
      " |      list ``samples``.\n",
      " |      \n",
      " |      :param samples: The samples to initialize the frequency\n",
      " |          distribution with.\n",
      " |      :type samples: Sequence\n",
      " |  \n",
      " |  __le__(self, other)\n",
      " |      Return self<=value.\n",
      " |  \n",
      " |  __lt__ lambda self, other\n",
      " |  \n",
      " |  __or__(self, other)\n",
      " |      Union is the maximum of value in either of the input counters.\n",
      " |      \n",
      " |      >>> FreqDist('abbb') | FreqDist('bcc')\n",
      " |      FreqDist({'b': 3, 'c': 2, 'a': 1})\n",
      " |  \n",
      " |  __repr__(self)\n",
      " |      Return a string representation of this FreqDist.\n",
      " |      \n",
      " |      :rtype: string\n",
      " |  \n",
      " |  __setitem__(self, key, val)\n",
      " |      Override ``Counter.__setitem__()`` to invalidate the cached N\n",
      " |  \n",
      " |  __str__(self)\n",
      " |      Return a string representation of this FreqDist.\n",
      " |      \n",
      " |      :rtype: string\n",
      " |  \n",
      " |  __sub__(self, other)\n",
      " |      Subtract count, but keep only results with positive counts.\n",
      " |      \n",
      " |      >>> FreqDist('abbbc') - FreqDist('bccd')\n",
      " |      FreqDist({'b': 2, 'a': 1})\n",
      " |  \n",
      " |  __unicode__ = __str__(self)\n",
      " |  \n",
      " |  copy(self)\n",
      " |      Create a copy of this frequency distribution.\n",
      " |      \n",
      " |      :rtype: FreqDist\n",
      " |  \n",
      " |  freq(self, sample)\n",
      " |      Return the frequency of a given sample.  The frequency of a\n",
      " |      sample is defined as the count of that sample divided by the\n",
      " |      total number of sample outcomes that have been recorded by\n",
      " |      this FreqDist.  The count of a sample is defined as the\n",
      " |      number of times that sample outcome was recorded by this\n",
      " |      FreqDist.  Frequencies are always real numbers in the range\n",
      " |      [0, 1].\n",
      " |      \n",
      " |      :param sample: the sample whose frequency\n",
      " |             should be returned.\n",
      " |      :type sample: any\n",
      " |      :rtype: float\n",
      " |  \n",
      " |  hapaxes(self)\n",
      " |      Return a list of all samples that occur once (hapax legomena)\n",
      " |      \n",
      " |      :rtype: list\n",
      " |  \n",
      " |  max(self)\n",
      " |      Return the sample with the greatest number of outcomes in this\n",
      " |      frequency distribution.  If two or more samples have the same\n",
      " |      number of outcomes, return one of them; which sample is\n",
      " |      returned is undefined.  If no outcomes have occurred in this\n",
      " |      frequency distribution, return None.\n",
      " |      \n",
      " |      :return: The sample with the maximum number of outcomes in this\n",
      " |              frequency distribution.\n",
      " |      :rtype: any or None\n",
      " |  \n",
      " |  pformat(self, maxlen=10)\n",
      " |      Return a string representation of this FreqDist.\n",
      " |      \n",
      " |      :param maxlen: The maximum number of items to display\n",
      " |      :type maxlen: int\n",
      " |      :rtype: string\n",
      " |  \n",
      " |  plot(self, *args, **kwargs)\n",
      " |      Plot samples from the frequency distribution\n",
      " |      displaying the most frequent sample first.  If an integer\n",
      " |      parameter is supplied, stop after this many samples have been\n",
      " |      plotted.  For a cumulative plot, specify cumulative=True.\n",
      " |      (Requires Matplotlib to be installed.)\n",
      " |      \n",
      " |      :param title: The title for the graph\n",
      " |      :type title: str\n",
      " |      :param cumulative: A flag to specify whether the plot is cumulative (default = False)\n",
      " |      :type title: bool\n",
      " |  \n",
      " |  pprint(self, maxlen=10, stream=None)\n",
      " |      Print a string representation of this FreqDist to 'stream'\n",
      " |      \n",
      " |      :param maxlen: The maximum number of items to print\n",
      " |      :type maxlen: int\n",
      " |      :param stream: The stream to print to. stdout by default\n",
      " |  \n",
      " |  r_Nr(self, bins=None)\n",
      " |      Return the dictionary mapping r to Nr, the number of samples with frequency r, where Nr > 0.\n",
      " |      \n",
      " |      :type bins: int\n",
      " |      :param bins: The number of possible sample outcomes.  ``bins``\n",
      " |          is used to calculate Nr(0).  In particular, Nr(0) is\n",
      " |          ``bins-self.B()``.  If ``bins`` is not specified, it\n",
      " |          defaults to ``self.B()`` (so Nr(0) will be 0).\n",
      " |      :rtype: int\n",
      " |  \n",
      " |  setdefault(self, key, val)\n",
      " |      Override ``Counter.setdefault()`` to invalidate the cached N\n",
      " |  \n",
      " |  tabulate(self, *args, **kwargs)\n",
      " |      Tabulate the given samples from the frequency distribution (cumulative),\n",
      " |      displaying the most frequent sample first.  If an integer\n",
      " |      parameter is supplied, stop after this many samples have been\n",
      " |      plotted.\n",
      " |      \n",
      " |      :param samples: The samples to plot (default is all samples)\n",
      " |      :type samples: list\n",
      " |      :param cumulative: A flag to specify whether the freqs are cumulative (default = False)\n",
      " |      :type title: bool\n",
      " |  \n",
      " |  unicode_repr = __repr__(self)\n",
      " |  \n",
      " |  update(self, *args, **kwargs)\n",
      " |      Override ``Counter.update()`` to invalidate the cached N\n",
      " |  \n",
      " |  ----------------------------------------------------------------------\n",
      " |  Methods inherited from collections.Counter:\n",
      " |  \n",
      " |  __iadd__(self, other)\n",
      " |      Inplace add from another counter, keeping only positive counts.\n",
      " |      \n",
      " |      >>> c = Counter('abbb')\n",
      " |      >>> c += Counter('bcc')\n",
      " |      >>> c\n",
      " |      Counter({'b': 4, 'c': 2, 'a': 1})\n",
      " |  \n",
      " |  __iand__(self, other)\n",
      " |      Inplace intersection is the minimum of corresponding counts.\n",
      " |      \n",
      " |      >>> c = Counter('abbb')\n",
      " |      >>> c &= Counter('bcc')\n",
      " |      >>> c\n",
      " |      Counter({'b': 1})\n",
      " |  \n",
      " |  __ior__(self, other)\n",
      " |      Inplace union is the maximum of value from either counter.\n",
      " |      \n",
      " |      >>> c = Counter('abbb')\n",
      " |      >>> c |= Counter('bcc')\n",
      " |      >>> c\n",
      " |      Counter({'b': 3, 'c': 2, 'a': 1})\n",
      " |  \n",
      " |  __isub__(self, other)\n",
      " |      Inplace subtract counter, but keep only results with positive counts.\n",
      " |      \n",
      " |      >>> c = Counter('abbbc')\n",
      " |      >>> c -= Counter('bccd')\n",
      " |      >>> c\n",
      " |      Counter({'b': 2, 'a': 1})\n",
      " |  \n",
      " |  __missing__(self, key)\n",
      " |      The count of elements not in the Counter is zero.\n",
      " |  \n",
      " |  __neg__(self)\n",
      " |      Subtracts from an empty counter.  Strips positive and zero counts,\n",
      " |      and flips the sign on negative counts.\n",
      " |  \n",
      " |  __pos__(self)\n",
      " |      Adds an empty counter, effectively stripping negative and zero counts\n",
      " |  \n",
      " |  __reduce__(self)\n",
      " |      Helper for pickle.\n",
      " |  \n",
      " |  elements(self)\n",
      " |      Iterator over elements repeating each as many times as its count.\n",
      " |      \n",
      " |      >>> c = Counter('ABCABC')\n",
      " |      >>> sorted(c.elements())\n",
      " |      ['A', 'A', 'B', 'B', 'C', 'C']\n",
      " |      \n",
      " |      # Knuth's example for prime factors of 1836:  2**2 * 3**3 * 17**1\n",
      " |      >>> prime_factors = Counter({2: 2, 3: 3, 17: 1})\n",
      " |      >>> product = 1\n",
      " |      >>> for factor in prime_factors.elements():     # loop over factors\n",
      " |      ...     product *= factor                       # and multiply them\n",
      " |      >>> product\n",
      " |      1836\n",
      " |      \n",
      " |      Note, if an element's count has been set to zero or is a negative\n",
      " |      number, elements() will ignore it.\n",
      " |  \n",
      " |  most_common(self, n=None)\n",
      " |      List the n most common elements and their counts from the most\n",
      " |      common to the least.  If n is None, then list all element counts.\n",
      " |      \n",
      " |      >>> Counter('abcdeabcdabcaba').most_common(3)\n",
      " |      [('a', 5), ('b', 4), ('c', 3)]\n",
      " |  \n",
      " |  subtract(*args, **kwds)\n",
      " |      Like dict.update() but subtracts counts instead of replacing them.\n",
      " |      Counts can be reduced below zero.  Both the inputs and outputs are\n",
      " |      allowed to contain zero and negative counts.\n",
      " |      \n",
      " |      Source can be an iterable, a dictionary, or another Counter instance.\n",
      " |      \n",
      " |      >>> c = Counter('which')\n",
      " |      >>> c.subtract('witch')             # subtract elements from another iterable\n",
      " |      >>> c.subtract(Counter('watch'))    # subtract elements from another counter\n",
      " |      >>> c['h']                          # 2 in which, minus 1 in witch, minus 1 in watch\n",
      " |      0\n",
      " |      >>> c['w']                          # 1 in which, minus 1 in witch, minus 1 in watch\n",
      " |      -1\n",
      " |  \n",
      " |  ----------------------------------------------------------------------\n",
      " |  Class methods inherited from collections.Counter:\n",
      " |  \n",
      " |  fromkeys(iterable, v=None) from builtins.type\n",
      " |      Create a new dictionary with keys from iterable and values set to value.\n",
      " |  \n",
      " |  ----------------------------------------------------------------------\n",
      " |  Data descriptors inherited from collections.Counter:\n",
      " |  \n",
      " |  __dict__\n",
      " |      dictionary for instance variables (if defined)\n",
      " |  \n",
      " |  __weakref__\n",
      " |      list of weak references to the object (if defined)\n",
      " |  \n",
      " |  ----------------------------------------------------------------------\n",
      " |  Methods inherited from builtins.dict:\n",
      " |  \n",
      " |  __contains__(self, key, /)\n",
      " |      True if the dictionary has the specified key, else False.\n",
      " |  \n",
      " |  __eq__(self, value, /)\n",
      " |      Return self==value.\n",
      " |  \n",
      " |  __getattribute__(self, name, /)\n",
      " |      Return getattr(self, name).\n",
      " |  \n",
      " |  __getitem__(...)\n",
      " |      x.__getitem__(y) <==> x[y]\n",
      " |  \n",
      " |  __iter__(self, /)\n",
      " |      Implement iter(self).\n",
      " |  \n",
      " |  __len__(self, /)\n",
      " |      Return len(self).\n",
      " |  \n",
      " |  __ne__(self, value, /)\n",
      " |      Return self!=value.\n",
      " |  \n",
      " |  __sizeof__(...)\n",
      " |      D.__sizeof__() -> size of D in memory, in bytes\n",
      " |  \n",
      " |  clear(...)\n",
      " |      D.clear() -> None.  Remove all items from D.\n",
      " |  \n",
      " |  get(self, key, default=None, /)\n",
      " |      Return the value for key if key is in the dictionary, else default.\n",
      " |  \n",
      " |  items(...)\n",
      " |      D.items() -> a set-like object providing a view on D's items\n",
      " |  \n",
      " |  keys(...)\n",
      " |      D.keys() -> a set-like object providing a view on D's keys\n",
      " |  \n",
      " |  pop(...)\n",
      " |      D.pop(k[,d]) -> v, remove specified key and return the corresponding value.\n",
      " |      If key is not found, d is returned if given, otherwise KeyError is raised\n",
      " |  \n",
      " |  popitem(...)\n",
      " |      D.popitem() -> (k, v), remove and return some (key, value) pair as a\n",
      " |      2-tuple; but raise KeyError if D is empty.\n",
      " |  \n",
      " |  values(...)\n",
      " |      D.values() -> an object providing a view on D's values\n",
      " |  \n",
      " |  ----------------------------------------------------------------------\n",
      " |  Static methods inherited from builtins.dict:\n",
      " |  \n",
      " |  __new__(*args, **kwargs) from builtins.type\n",
      " |      Create and return a new object.  See help(type) for accurate signature.\n",
      " |  \n",
      " |  ----------------------------------------------------------------------\n",
      " |  Data and other attributes inherited from builtins.dict:\n",
      " |  \n",
      " |  __hash__ = None\n",
      "\n"
     ]
    }
   ],
   "source": [
    "help(ti_freqdist)"
   ]
  },
  {
   "cell_type": "code",
   "execution_count": 68,
   "metadata": {},
   "outputs": [
    {
     "name": "stdout",
     "output_type": "stream",
     "text": [
      "said 323\n",
      "one 280\n",
      "man 262\n",
      "captain 236\n",
      "silver 224\n",
      "like 207\n",
      "doctor 175\n",
      "could 174\n",
      "would 169\n",
      "us 166\n"
     ]
    }
   ],
   "source": [
    "pairs = [(word, frequency) for word, frequency in ti_freqdist.most_common(11)]\n",
    "for word, frequency in pairs[1:]:\n",
    "    print(word, frequency)\n",
    "    "
   ]
  },
  {
   "cell_type": "code",
   "execution_count": 82,
   "metadata": {},
   "outputs": [],
   "source": [
    "def text_to_words(url):\n",
    "    req = requests.get(url)\n",
    "    ti_text = req.text\n",
    "    ti_text[:250]\n",
    "    ti_text = (req.text.split('*** START OF THIS PROJECT GUTENBERG EBOOK'))[-1]\n",
    "    ti_text = ti_text.strip()\n",
    "    ti_text ='\\n'.join(ti_text.split('\\r\\n')[20:])\n",
    "    ti_text = ti_text.split('\\n')[:-360]\n",
    "    ti_text = '\\n'.join(ti_text)\n",
    "    tokenizer = nltk.tokenize.RegexpTokenizer('\\w+')\n",
    "    ti_tokenizer = tokenizer.tokenize(ti_text)\n",
    "    ti_words = [token.lower() for token in ti_tokenizer]\n",
    "    ti_filtered = [word for word in ti_words if word not in sw and len(word)>1]\n",
    "    return ti_filtered"
   ]
  },
  {
   "cell_type": "code",
   "execution_count": 83,
   "metadata": {},
   "outputs": [
    {
     "data": {
      "text/plain": [
       "['dr',\n",
       " 'jekyll',\n",
       " 'quite',\n",
       " 'ease',\n",
       " 'carew',\n",
       " 'murder',\n",
       " 'case',\n",
       " 'incident',\n",
       " 'letter',\n",
       " 'incident']"
      ]
     },
     "execution_count": 83,
     "metadata": {},
     "output_type": "execute_result"
    }
   ],
   "source": [
    "text_to_words(jh_url)[:10]"
   ]
  },
  {
   "cell_type": "code",
   "execution_count": 77,
   "metadata": {},
   "outputs": [
    {
     "data": {
      "text/plain": [
       "\"p,\\nexactly as he had feared upon the island; and he still lives, a great\\nfavourite, though something of a butt, with the country boys, and a\\nnotable singer in church on Sundays and saints' days.\\n\\nOf Silver we have heard no more. That formidable seafaring man with one\\nleg has at last gone clean out of my life; but I dare say he met his old\\nNegress, and perhaps still lives in comfort with her and Captain Flint.\\nIt is to be hoped so, I suppose, for his chances of comfort in another\\nworld are very small.\\n\\nThe bar silver and the arms still lie, for all that I know, where\\nFlint buried them; and certainly they shall lie there for me. Oxen and\\nwain-ropes would not bring me back again to that accursed island; and\\nthe worst dreams that ever I have are when I hear the surf booming about\\nits coasts or start upright in bed with the sharp voice of Captain Flint\\nstill ringing in my ears: â\\x80\\x9cPieces of eight! Pieces of eight!â\\x80\\x9d\\n\\n\\n\\n\\n\\nEnd of Project Gutenberg's Treasure Island, by Robert Louis Stevenson\""
      ]
     },
     "execution_count": 77,
     "metadata": {},
     "output_type": "execute_result"
    }
   ],
   "source": [
    "text_to_words(ti_url)[1000:]"
   ]
  },
  {
   "cell_type": "code",
   "execution_count": 78,
   "metadata": {},
   "outputs": [
    {
     "data": {
      "text/plain": [
       "'the halfspent suction of the sunk ship reached me, I was then, but\\nslowly, drawn towards the closing vortex. When I reached it, it had\\nsubsided to a creamy pool. Round and round, then, and ever contracting\\ntowards the button-like black bubble at the axis of that slowly\\nwheeling circle, like another Ixion I did revolve. Till, gaining that\\nvital centre, the black bubble upward burst; and now, liberated by\\nreason of its cunning spring, and, owing to its great buoyancy, rising\\nwith great force, the coffin life-buoy shot lengthwise from the sea,\\nfell over, and floated by my side. Buoyed up by that coffin, for almost\\none whole day and night, I floated on a soft and dirgelike main. The\\nunharming sharks, they glided by as if with padlocks on their mouths;\\nthe savage sea-hawks sailed with sheathed beaks. On the second day, a\\nsail drew near, nearer, and picked me up at last. It was the\\ndevious-cruising Rachel, that in her retracing search after her missing\\nchildren, only found another orphan.\\n\\n\\n'"
      ]
     },
     "execution_count": 78,
     "metadata": {},
     "output_type": "execute_result"
    }
   ],
   "source": [
    "text_to_words(md_url)[-1000:]"
   ]
  },
  {
   "cell_type": "code",
   "execution_count": 90,
   "metadata": {},
   "outputs": [],
   "source": [
    "ti_word = text_to_words(ti_url)\n",
    "jh_word = text_to_words(jh_url)\n",
    "md_word = text_to_words(md_url)"
   ]
  },
  {
   "cell_type": "code",
   "execution_count": 92,
   "metadata": {},
   "outputs": [],
   "source": [
    "ti_freqdist = nltk.FreqDist(ti_word)\n",
    "jh_freqdist = nltk.FreqDist(jh_word)\n",
    "md_freqdist = nltk.FreqDist(md_word)"
   ]
  },
  {
   "cell_type": "code",
   "execution_count": 93,
   "metadata": {},
   "outputs": [
    {
     "name": "stdout",
     "output_type": "stream",
     "text": [
      "said 323\n",
      "one 280\n",
      "man 262\n",
      "captain 236\n",
      "silver 224\n",
      "like 207\n",
      "doctor 175\n",
      "could 174\n",
      "would 169\n",
      "us 166\n",
      "well 156\n"
     ]
    }
   ],
   "source": [
    "pairs = [(word,frequency) for word, frequency in ti_freqdist.most_common(11)]\n",
    "for word, frequency in pairs:\n",
    "    print(word, frequency)\n",
    "    "
   ]
  },
  {
   "cell_type": "code",
   "execution_count": 94,
   "metadata": {},
   "outputs": [
    {
     "name": "stdout",
     "output_type": "stream",
     "text": [
      "said 130\n",
      "utterson 128\n",
      "mr 123\n",
      "hyde 96\n",
      "jekyll 82\n",
      "one 79\n",
      "man 77\n",
      "lawyer 67\n",
      "poole 61\n",
      "upon 60\n",
      "like 59\n"
     ]
    }
   ],
   "source": [
    "pairs = [(word,frequency) for word, frequency in jh_freqdist.most_common(11)]\n",
    "for word, frequency in pairs:\n",
    "    print(word, frequency)"
   ]
  },
  {
   "cell_type": "code",
   "execution_count": 95,
   "metadata": {},
   "outputs": [
    {
     "name": "stdout",
     "output_type": "stream",
     "text": [
      "whale 1082\n",
      "one 907\n",
      "like 646\n",
      "upon 566\n",
      "man 467\n",
      "ye 459\n",
      "sea 451\n",
      "old 450\n",
      "ship 432\n",
      "would 430\n",
      "ahab 427\n"
     ]
    }
   ],
   "source": [
    "pairs = [(word,frequency) for word, frequency in md_freqdist.most_common(11)]\n",
    "for word, frequency in pairs:\n",
    "    print(word, frequency)"
   ]
  },
  {
   "cell_type": "code",
   "execution_count": null,
   "metadata": {},
   "outputs": [],
   "source": []
  }
 ],
 "metadata": {
  "kernelspec": {
   "display_name": "Python 3",
   "language": "python",
   "name": "python3"
  },
  "language_info": {
   "codemirror_mode": {
    "name": "ipython",
    "version": 3
   },
   "file_extension": ".py",
   "mimetype": "text/x-python",
   "name": "python",
   "nbconvert_exporter": "python",
   "pygments_lexer": "ipython3",
   "version": "3.7.1"
  }
 },
 "nbformat": 4,
 "nbformat_minor": 2
}
