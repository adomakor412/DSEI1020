{
 "cells": [
  {
   "cell_type": "markdown",
   "metadata": {},
   "source": [
    "1. What is a data Structure?\n",
    "2. What is a lineaer data Structure?\n",
    "3. What is a non-linear data Structure?\n",
    "4. What does the  do in data Structure?\n",
    "5. What does the  do in data Structure?\n",
    "6. What does the  do in data Structure?\n",
    "7. What does the  do in data Structure?\n",
    "8. How is an array different from a linked list?\n",
    "9. What does the  do in data Structure?\n",
    "10. What are the common operations of a Stack list?\n",
    "11. What is a Queue?\n",
    "12. What is Infix notation?\n",
    "13. What is Postfix notation?\n",
    "14. What is Prefix notation?\n",
    "15. What is Infix notation?\n",
    "16. What is a linked list?\n",
    "17. Which of the following is not a type of linked list?\n"
   ]
  },
  {
   "cell_type": "code",
   "execution_count": null,
   "metadata": {},
   "outputs": [],
   "source": []
  }
 ],
 "metadata": {
  "kernelspec": {
   "display_name": "Python 3",
   "language": "python",
   "name": "python3"
  },
  "language_info": {
   "codemirror_mode": {
    "name": "ipython",
    "version": 3
   },
   "file_extension": ".py",
   "mimetype": "text/x-python",
   "name": "python",
   "nbconvert_exporter": "python",
   "pygments_lexer": "ipython3",
   "version": "3.7.0"
  }
 },
 "nbformat": 4,
 "nbformat_minor": 2
}
