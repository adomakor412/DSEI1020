{
 "cells": [
  {
   "cell_type": "markdown",
   "metadata": {},
   "source": [
    "# Data Wrangling homework assigment + Bonus\n",
    "## Problem 2: Scrape CCNY calendar\n",
    "Create a private repo on github called calscrape. Share it with mdogy. Create an ipython notebook and commit it. I want you to keep committing it as you edit it so I can see it build up. Your mission is to scrape the cuny fall 2018 academic calendar site using the requests library, beautiful soup and pandas, just like in class. You should wind up with a pandas data frame where the index column is a python date. There should be a column for \"day of the week\" with variable lable dow and a column called text with the explanation. \n",
    "\n",
    "Print out this data frame. 5 extra credit points if you figure out how to use the google api to programatically add these dates to your google calendar with the request library."
   ]
  },
  {
   "cell_type": "code",
   "execution_count": 1,
   "metadata": {},
   "outputs": [],
   "source": [
    "import requests\n",
    "from bs4 import BeautifulSoup as BS\n",
    "from IPython.display import HTML\n",
    "import pandas as pd"
   ]
  },
  {
   "cell_type": "markdown",
   "metadata": {},
   "source": [
    "### Inspect Calendar URL"
   ]
  },
  {
   "cell_type": "code",
   "execution_count": 2,
   "metadata": {},
   "outputs": [],
   "source": [
    "req = requests.get(\"https://www.ccny.cuny.edu/registrar/fall-2018-academic-calendar\")"
   ]
  },
  {
   "cell_type": "code",
   "execution_count": 3,
   "metadata": {},
   "outputs": [
    {
     "name": "stdout",
     "output_type": "stream",
     "text": [
      "It's working\n",
      "200\n"
     ]
    }
   ],
   "source": [
    "code = req.status_code\n",
    "\n",
    "if code == 200:\n",
    "    print('It\\'s working')\n",
    "print(code)"
   ]
  },
  {
   "cell_type": "code",
   "execution_count": 4,
   "metadata": {},
   "outputs": [],
   "source": [
    "req.text;"
   ]
  },
  {
   "cell_type": "markdown",
   "metadata": {},
   "source": [
    "### Obtain Beatiful Soup object"
   ]
  },
  {
   "cell_type": "code",
   "execution_count": 5,
   "metadata": {},
   "outputs": [],
   "source": [
    "soup = BS(req.text,'html.parser')\n",
    "#print(soup.prettify)"
   ]
  },
  {
   "cell_type": "code",
   "execution_count": 6,
   "metadata": {},
   "outputs": [],
   "source": [
    "dir(soup);"
   ]
  },
  {
   "cell_type": "code",
   "execution_count": 7,
   "metadata": {},
   "outputs": [
    {
     "data": {
      "text/plain": [
       "<title>Fall 2018 Academic Calendar | The City College of New York</title>"
      ]
     },
     "execution_count": 7,
     "metadata": {},
     "output_type": "execute_result"
    }
   ],
   "source": [
    "soup.title"
   ]
  },
  {
   "cell_type": "code",
   "execution_count": 8,
   "metadata": {},
   "outputs": [
    {
     "data": {
      "text/plain": [
       "'title'"
      ]
     },
     "execution_count": 8,
     "metadata": {},
     "output_type": "execute_result"
    }
   ],
   "source": [
    "soup.title.name"
   ]
  },
  {
   "cell_type": "code",
   "execution_count": 9,
   "metadata": {},
   "outputs": [
    {
     "data": {
      "text/plain": [
       "'Fall 2018 Academic Calendar | The City College of New York'"
      ]
     },
     "execution_count": 9,
     "metadata": {},
     "output_type": "execute_result"
    }
   ],
   "source": [
    "soup.title.text"
   ]
  },
  {
   "cell_type": "markdown",
   "metadata": {},
   "source": [
    "<span style=\"color:red\">*NOTICE THERE IS NO PARAGRAPH TAGS IN THIS DATA* </span>"
   ]
  },
  {
   "cell_type": "code",
   "execution_count": 10,
   "metadata": {},
   "outputs": [
    {
     "data": {
      "text/plain": [
       "<p> </p>"
      ]
     },
     "execution_count": 10,
     "metadata": {},
     "output_type": "execute_result"
    }
   ],
   "source": [
    "soup.p"
   ]
  },
  {
   "cell_type": "markdown",
   "metadata": {},
   "source": [
    "<span style=\"color:red\">A good refactor would decipher that _p_ string search doesnt correspond to a paragraph search.</span>"
   ]
  },
  {
   "cell_type": "code",
   "execution_count": 11,
   "metadata": {},
   "outputs": [
    {
     "data": {
      "text/plain": [
       "141"
      ]
     },
     "execution_count": 11,
     "metadata": {},
     "output_type": "execute_result"
    }
   ],
   "source": [
    "all_p = soup.find_all('p')\n",
    "len(all_p)"
   ]
  },
  {
   "cell_type": "markdown",
   "metadata": {},
   "source": [
    "## Inspect wanted table(s)"
   ]
  },
  {
   "cell_type": "code",
   "execution_count": 12,
   "metadata": {},
   "outputs": [
    {
     "data": {
      "text/plain": [
       "1"
      ]
     },
     "execution_count": 12,
     "metadata": {},
     "output_type": "execute_result"
    }
   ],
   "source": [
    "all_tables = soup.find_all('table')\n",
    "len(all_tables)"
   ]
  },
  {
   "cell_type": "code",
   "execution_count": 13,
   "metadata": {},
   "outputs": [],
   "source": [
    "all_tables[0];"
   ]
  },
  {
   "cell_type": "code",
   "execution_count": 14,
   "metadata": {},
   "outputs": [
    {
     "name": "stdout",
     "output_type": "stream",
     "text": [
      "<class 'bs4.element.Tag'>\n"
     ]
    }
   ],
   "source": [
    "print(type(all_tables[0]))"
   ]
  },
  {
   "cell_type": "markdown",
   "metadata": {},
   "source": [
    "<span style=\"color:red\">MODIFIED SCRIPT </span>"
   ]
  },
  {
   "cell_type": "code",
   "execution_count": 15,
   "metadata": {},
   "outputs": [],
   "source": [
    "from IPython.display import HTML"
   ]
  },
  {
   "cell_type": "code",
   "execution_count": 16,
   "metadata": {},
   "outputs": [
    {
     "name": "stdout",
     "output_type": "stream",
     "text": [
      "The table tag has unnammed html class(es)\n"
     ]
    }
   ],
   "source": [
    "try:\n",
    "    table_classes = [table['class'] for table in all_tables]\n",
    "    print(table_classes)\n",
    "    wikitables = [table for table in all_tables if 'wikitable' in table['class']]\n",
    "    print('WikiTables first \\n',HTML(str(wikitables[0])))\n",
    "    print('WikiTables  second \\n', HTML(str(wikitables[0])))\n",
    "except:\n",
    "    print('The table tag has unnammed html class(es)')\n"
   ]
  },
  {
   "cell_type": "code",
   "execution_count": 17,
   "metadata": {},
   "outputs": [],
   "source": [
    "cuny_calendar = [table for table in all_tables][0]\n",
    "rows = cuny_calendar.find_all('tr')\n",
    "HTML(str(rows));"
   ]
  },
  {
   "cell_type": "code",
   "execution_count": 18,
   "metadata": {},
   "outputs": [
    {
     "data": {
      "text/html": [
       "<tr><td style=\"width:134px;\"><p><strong>DATES</strong></p></td><td style=\"width:124px;\"><p><strong>DAYS</strong></p></td><td style=\"width:390px;\"><p> </p></td></tr>"
      ],
      "text/plain": [
       "<IPython.core.display.HTML object>"
      ]
     },
     "execution_count": 18,
     "metadata": {},
     "output_type": "execute_result"
    }
   ],
   "source": [
    "HTML(str(rows[0]))"
   ]
  },
  {
   "cell_type": "code",
   "execution_count": 19,
   "metadata": {},
   "outputs": [],
   "source": [
    "value_rows = [[data.text.strip() for data in row.find_all('td')] for row in rows[1:]]\n",
    "series_list = list(zip(*value_rows))"
   ]
  },
  {
   "cell_type": "code",
   "execution_count": 20,
   "metadata": {},
   "outputs": [],
   "source": [
    "col_head = [head.text.strip().lower().replace(' ', '_').replace('.', '') for head in rows[0].find_all('td')]"
   ]
  },
  {
   "cell_type": "code",
   "execution_count": 21,
   "metadata": {},
   "outputs": [
    {
     "data": {
      "text/html": [
       "<div>\n",
       "<style scoped>\n",
       "    .dataframe tbody tr th:only-of-type {\n",
       "        vertical-align: middle;\n",
       "    }\n",
       "\n",
       "    .dataframe tbody tr th {\n",
       "        vertical-align: top;\n",
       "    }\n",
       "\n",
       "    .dataframe thead th {\n",
       "        text-align: right;\n",
       "    }\n",
       "</style>\n",
       "<table border=\"1\" class=\"dataframe\">\n",
       "  <thead>\n",
       "    <tr style=\"text-align: right;\">\n",
       "      <th></th>\n",
       "      <th>date</th>\n",
       "      <th>day of the week</th>\n",
       "      <th>Note</th>\n",
       "    </tr>\n",
       "  </thead>\n",
       "  <tbody>\n",
       "    <tr>\n",
       "      <th>0</th>\n",
       "      <td>August</td>\n",
       "      <td></td>\n",
       "      <td></td>\n",
       "    </tr>\n",
       "    <tr>\n",
       "      <th>1</th>\n",
       "      <td>August 01</td>\n",
       "      <td>Wednesday</td>\n",
       "      <td>Application for degree for January and Februar...</td>\n",
       "    </tr>\n",
       "    <tr>\n",
       "      <th>2</th>\n",
       "      <td>August 20</td>\n",
       "      <td>Monday</td>\n",
       "      <td>Last day to apply for Study Abroad</td>\n",
       "    </tr>\n",
       "    <tr>\n",
       "      <th>3</th>\n",
       "      <td>August 26</td>\n",
       "      <td>Sunday</td>\n",
       "      <td>Last day of Registration;Last day to file ePer...</td>\n",
       "    </tr>\n",
       "    <tr>\n",
       "      <th>4</th>\n",
       "      <td>August 27</td>\n",
       "      <td>Monday</td>\n",
       "      <td>Classes begin;Initial Registration Appeals beg...</td>\n",
       "    </tr>\n",
       "    <tr>\n",
       "      <th>5</th>\n",
       "      <td>August 27 –September 02</td>\n",
       "      <td>Monday –Sunday</td>\n",
       "      <td>Change of program period; late fees apply</td>\n",
       "    </tr>\n",
       "    <tr>\n",
       "      <th>6</th>\n",
       "      <td>August 28</td>\n",
       "      <td>Tuesday</td>\n",
       "      <td>Last day to submit a request for Independent S...</td>\n",
       "    </tr>\n",
       "    <tr>\n",
       "      <th>7</th>\n",
       "      <td>September</td>\n",
       "      <td></td>\n",
       "      <td></td>\n",
       "    </tr>\n",
       "    <tr>\n",
       "      <th>8</th>\n",
       "      <td>September 01</td>\n",
       "      <td>Saturday</td>\n",
       "      <td>First day of Saturday Classes</td>\n",
       "    </tr>\n",
       "    <tr>\n",
       "      <th>9</th>\n",
       "      <td>September 02</td>\n",
       "      <td>Sunday</td>\n",
       "      <td>Last day to add a class to an existing enrollm...</td>\n",
       "    </tr>\n",
       "    <tr>\n",
       "      <th>10</th>\n",
       "      <td>September 03</td>\n",
       "      <td>Monday</td>\n",
       "      <td>Course Withdrawal drop period begins (A grade ...</td>\n",
       "    </tr>\n",
       "    <tr>\n",
       "      <th>11</th>\n",
       "      <td>September 05</td>\n",
       "      <td>Wednesday</td>\n",
       "      <td>Classes follow a Monday schedule</td>\n",
       "    </tr>\n",
       "    <tr>\n",
       "      <th>12</th>\n",
       "      <td>September 09</td>\n",
       "      <td>Sunday</td>\n",
       "      <td>Last day to drop for 50% tuition refund</td>\n",
       "    </tr>\n",
       "    <tr>\n",
       "      <th>13</th>\n",
       "      <td>September 10 –September 11</td>\n",
       "      <td>Monday –Tuesday</td>\n",
       "      <td>No Classes scheduled</td>\n",
       "    </tr>\n",
       "    <tr>\n",
       "      <th>14</th>\n",
       "      <td>September 16</td>\n",
       "      <td>Sunday</td>\n",
       "      <td>Last day for 25% tuition refund;Census date – ...</td>\n",
       "    </tr>\n",
       "    <tr>\n",
       "      <th>15</th>\n",
       "      <td>September 17</td>\n",
       "      <td>Monday</td>\n",
       "      <td>Course withdrawal period begins (A grade of “W...</td>\n",
       "    </tr>\n",
       "    <tr>\n",
       "      <th>16</th>\n",
       "      <td>September 18 –September 19</td>\n",
       "      <td>Tuesday –Wednesday</td>\n",
       "      <td>No classes scheduled</td>\n",
       "    </tr>\n",
       "    <tr>\n",
       "      <th>17</th>\n",
       "      <td>September 20</td>\n",
       "      <td>Thursday</td>\n",
       "      <td>Freshman Convocation</td>\n",
       "    </tr>\n",
       "    <tr>\n",
       "      <th>18</th>\n",
       "      <td>September 25</td>\n",
       "      <td>Tuesday</td>\n",
       "      <td>Last day to submit proof of immunization for N...</td>\n",
       "    </tr>\n",
       "    <tr>\n",
       "      <th>19</th>\n",
       "      <td>September 26</td>\n",
       "      <td>Wednesday</td>\n",
       "      <td>Assignment of “WA” grades for immunization non...</td>\n",
       "    </tr>\n",
       "    <tr>\n",
       "      <th>20</th>\n",
       "      <td>October</td>\n",
       "      <td></td>\n",
       "      <td></td>\n",
       "    </tr>\n",
       "    <tr>\n",
       "      <th>21</th>\n",
       "      <td>October 08</td>\n",
       "      <td>Monday</td>\n",
       "      <td>College Closed</td>\n",
       "    </tr>\n",
       "    <tr>\n",
       "      <th>22</th>\n",
       "      <td>October 12</td>\n",
       "      <td>Friday</td>\n",
       "      <td>Deadline for filing application for degree for...</td>\n",
       "    </tr>\n",
       "    <tr>\n",
       "      <th>23</th>\n",
       "      <td>November</td>\n",
       "      <td></td>\n",
       "      <td></td>\n",
       "    </tr>\n",
       "    <tr>\n",
       "      <th>24</th>\n",
       "      <td>November 01</td>\n",
       "      <td>Thursday</td>\n",
       "      <td>INC grades for Spring 2018 and Summer 2018 for...</td>\n",
       "    </tr>\n",
       "    <tr>\n",
       "      <th>25</th>\n",
       "      <td>November 05</td>\n",
       "      <td>Monday</td>\n",
       "      <td>60% date of the term</td>\n",
       "    </tr>\n",
       "    <tr>\n",
       "      <th>26</th>\n",
       "      <td>November 06</td>\n",
       "      <td>Tuesday</td>\n",
       "      <td>Course withdrawal period ends.  Last day to wi...</td>\n",
       "    </tr>\n",
       "    <tr>\n",
       "      <th>27</th>\n",
       "      <td>November 22 –November 25</td>\n",
       "      <td>Thursday –Sunday</td>\n",
       "      <td>College Closed</td>\n",
       "    </tr>\n",
       "    <tr>\n",
       "      <th>28</th>\n",
       "      <td>December</td>\n",
       "      <td></td>\n",
       "      <td></td>\n",
       "    </tr>\n",
       "    <tr>\n",
       "      <th>29</th>\n",
       "      <td>December 08</td>\n",
       "      <td>Saturday</td>\n",
       "      <td>Last day of Saturday classes</td>\n",
       "    </tr>\n",
       "    <tr>\n",
       "      <th>30</th>\n",
       "      <td>December 12</td>\n",
       "      <td>Wednesday</td>\n",
       "      <td>Last day of Classes</td>\n",
       "    </tr>\n",
       "    <tr>\n",
       "      <th>31</th>\n",
       "      <td>December 13</td>\n",
       "      <td>Thursday</td>\n",
       "      <td>Reading Day</td>\n",
       "    </tr>\n",
       "    <tr>\n",
       "      <th>32</th>\n",
       "      <td>December 14</td>\n",
       "      <td>Friday</td>\n",
       "      <td>Reading Day / Final Examinations</td>\n",
       "    </tr>\n",
       "    <tr>\n",
       "      <th>33</th>\n",
       "      <td>December 15 –December 16</td>\n",
       "      <td>Saturday – Sunday</td>\n",
       "      <td>Final Examinations – Weekend Classes</td>\n",
       "    </tr>\n",
       "    <tr>\n",
       "      <th>34</th>\n",
       "      <td>December 17 –December 21</td>\n",
       "      <td>Monday – Friday</td>\n",
       "      <td>Final Examinations – Day/Evening Classes</td>\n",
       "    </tr>\n",
       "    <tr>\n",
       "      <th>35</th>\n",
       "      <td>December 21</td>\n",
       "      <td>Friday</td>\n",
       "      <td>End of Term</td>\n",
       "    </tr>\n",
       "    <tr>\n",
       "      <th>36</th>\n",
       "      <td>December 24-25</td>\n",
       "      <td>Monday –Tuesday</td>\n",
       "      <td>College Closed</td>\n",
       "    </tr>\n",
       "    <tr>\n",
       "      <th>37</th>\n",
       "      <td>December 28</td>\n",
       "      <td>Friday</td>\n",
       "      <td>Final Grade Submission Deadline</td>\n",
       "    </tr>\n",
       "    <tr>\n",
       "      <th>38</th>\n",
       "      <td>December 31</td>\n",
       "      <td>Monday</td>\n",
       "      <td>College Closed</td>\n",
       "    </tr>\n",
       "    <tr>\n",
       "      <th>39</th>\n",
       "      <td>January</td>\n",
       "      <td></td>\n",
       "      <td></td>\n",
       "    </tr>\n",
       "    <tr>\n",
       "      <th>40</th>\n",
       "      <td>January 1, 2019</td>\n",
       "      <td>Tuesday</td>\n",
       "      <td>College Closed</td>\n",
       "    </tr>\n",
       "  </tbody>\n",
       "</table>\n",
       "</div>"
      ],
      "text/plain": [
       "                          date     day of the week  \\\n",
       "0                       August                       \n",
       "1                    August 01           Wednesday   \n",
       "2                    August 20              Monday   \n",
       "3                    August 26              Sunday   \n",
       "4                    August 27              Monday   \n",
       "5      August 27 –September 02      Monday –Sunday   \n",
       "6                    August 28             Tuesday   \n",
       "7                    September                       \n",
       "8                 September 01            Saturday   \n",
       "9                 September 02              Sunday   \n",
       "10                September 03              Monday   \n",
       "11                September 05           Wednesday   \n",
       "12                September 09              Sunday   \n",
       "13  September 10 –September 11     Monday –Tuesday   \n",
       "14                September 16              Sunday   \n",
       "15                September 17              Monday   \n",
       "16  September 18 –September 19  Tuesday –Wednesday   \n",
       "17                September 20            Thursday   \n",
       "18                September 25             Tuesday   \n",
       "19                September 26           Wednesday   \n",
       "20                     October                       \n",
       "21                  October 08              Monday   \n",
       "22                  October 12              Friday   \n",
       "23                    November                       \n",
       "24                 November 01            Thursday   \n",
       "25                 November 05              Monday   \n",
       "26                 November 06             Tuesday   \n",
       "27    November 22 –November 25    Thursday –Sunday   \n",
       "28                    December                       \n",
       "29                 December 08            Saturday   \n",
       "30                 December 12           Wednesday   \n",
       "31                 December 13            Thursday   \n",
       "32                 December 14              Friday   \n",
       "33    December 15 –December 16   Saturday – Sunday   \n",
       "34    December 17 –December 21     Monday – Friday   \n",
       "35                 December 21              Friday   \n",
       "36              December 24-25     Monday –Tuesday   \n",
       "37                 December 28              Friday   \n",
       "38                 December 31              Monday   \n",
       "39                     January                       \n",
       "40             January 1, 2019             Tuesday   \n",
       "\n",
       "                                                 Note  \n",
       "0                                                      \n",
       "1   Application for degree for January and Februar...  \n",
       "2                  Last day to apply for Study Abroad  \n",
       "3   Last day of Registration;Last day to file ePer...  \n",
       "4   Classes begin;Initial Registration Appeals beg...  \n",
       "5           Change of program period; late fees apply  \n",
       "6   Last day to submit a request for Independent S...  \n",
       "7                                                      \n",
       "8                       First day of Saturday Classes  \n",
       "9   Last day to add a class to an existing enrollm...  \n",
       "10  Course Withdrawal drop period begins (A grade ...  \n",
       "11                   Classes follow a Monday schedule  \n",
       "12            Last day to drop for 50% tuition refund  \n",
       "13                               No Classes scheduled  \n",
       "14  Last day for 25% tuition refund;Census date – ...  \n",
       "15  Course withdrawal period begins (A grade of “W...  \n",
       "16                               No classes scheduled  \n",
       "17                               Freshman Convocation  \n",
       "18  Last day to submit proof of immunization for N...  \n",
       "19  Assignment of “WA” grades for immunization non...  \n",
       "20                                                     \n",
       "21                                     College Closed  \n",
       "22  Deadline for filing application for degree for...  \n",
       "23                                                     \n",
       "24  INC grades for Spring 2018 and Summer 2018 for...  \n",
       "25                               60% date of the term  \n",
       "26  Course withdrawal period ends.  Last day to wi...  \n",
       "27                                     College Closed  \n",
       "28                                                     \n",
       "29                       Last day of Saturday classes  \n",
       "30                                Last day of Classes  \n",
       "31                                        Reading Day  \n",
       "32                   Reading Day / Final Examinations  \n",
       "33               Final Examinations – Weekend Classes  \n",
       "34           Final Examinations – Day/Evening Classes  \n",
       "35                                        End of Term  \n",
       "36                                     College Closed  \n",
       "37                    Final Grade Submission Deadline  \n",
       "38                                     College Closed  \n",
       "39                                                     \n",
       "40                                     College Closed  "
      ]
     },
     "execution_count": 21,
     "metadata": {},
     "output_type": "execute_result"
    }
   ],
   "source": [
    "df = pd.DataFrame(dict(zip(col_head, series_list)))\n",
    "df.columns = ['date', 'day of the week', 'Note']\n",
    "df.reindex(df['date'])\n",
    "df"
   ]
  },
  {
   "cell_type": "code",
   "execution_count": 22,
   "metadata": {},
   "outputs": [
    {
     "name": "stdout",
     "output_type": "stream",
     "text": [
      "Requirement already up-to-date: google-api-python-client in /anaconda3/lib/python3.7/site-packages (1.7.11)\n",
      "Requirement already up-to-date: google-auth-httplib2 in /anaconda3/lib/python3.7/site-packages (0.0.3)\n",
      "Requirement already up-to-date: google-auth-oauthlib in /anaconda3/lib/python3.7/site-packages (0.4.0)\n",
      "Requirement already satisfied, skipping upgrade: httplib2<1dev,>=0.9.2 in /anaconda3/lib/python3.7/site-packages (from google-api-python-client) (0.13.1)\n",
      "Requirement already satisfied, skipping upgrade: six<2dev,>=1.6.1 in /anaconda3/lib/python3.7/site-packages (from google-api-python-client) (1.12.0)\n",
      "Requirement already satisfied, skipping upgrade: google-auth>=1.4.1 in /anaconda3/lib/python3.7/site-packages (from google-api-python-client) (1.6.3)\n",
      "Requirement already satisfied, skipping upgrade: uritemplate<4dev,>=3.0.0 in /anaconda3/lib/python3.7/site-packages (from google-api-python-client) (3.0.0)\n",
      "Requirement already satisfied, skipping upgrade: requests-oauthlib>=0.7.0 in /anaconda3/lib/python3.7/site-packages (from google-auth-oauthlib) (1.2.0)\n",
      "Requirement already satisfied, skipping upgrade: rsa>=3.1.4 in /anaconda3/lib/python3.7/site-packages (from google-auth>=1.4.1->google-api-python-client) (4.0)\n",
      "Requirement already satisfied, skipping upgrade: cachetools>=2.0.0 in /anaconda3/lib/python3.7/site-packages (from google-auth>=1.4.1->google-api-python-client) (3.1.1)\n",
      "Requirement already satisfied, skipping upgrade: pyasn1-modules>=0.2.1 in /anaconda3/lib/python3.7/site-packages (from google-auth>=1.4.1->google-api-python-client) (0.2.6)\n",
      "Requirement already satisfied, skipping upgrade: requests>=2.0.0 in /anaconda3/lib/python3.7/site-packages (from requests-oauthlib>=0.7.0->google-auth-oauthlib) (2.21.0)\n",
      "Requirement already satisfied, skipping upgrade: oauthlib>=3.0.0 in /anaconda3/lib/python3.7/site-packages (from requests-oauthlib>=0.7.0->google-auth-oauthlib) (3.1.0)\n",
      "Requirement already satisfied, skipping upgrade: pyasn1>=0.1.3 in /anaconda3/lib/python3.7/site-packages (from rsa>=3.1.4->google-auth>=1.4.1->google-api-python-client) (0.4.7)\n",
      "Requirement already satisfied, skipping upgrade: certifi>=2017.4.17 in /anaconda3/lib/python3.7/site-packages (from requests>=2.0.0->requests-oauthlib>=0.7.0->google-auth-oauthlib) (2018.11.29)\n",
      "Requirement already satisfied, skipping upgrade: urllib3<1.25,>=1.21.1 in /anaconda3/lib/python3.7/site-packages (from requests>=2.0.0->requests-oauthlib>=0.7.0->google-auth-oauthlib) (1.24.1)\n",
      "Requirement already satisfied, skipping upgrade: idna<2.9,>=2.5 in /anaconda3/lib/python3.7/site-packages (from requests>=2.0.0->requests-oauthlib>=0.7.0->google-auth-oauthlib) (2.8)\n",
      "Requirement already satisfied, skipping upgrade: chardet<3.1.0,>=3.0.2 in /anaconda3/lib/python3.7/site-packages (from requests>=2.0.0->requests-oauthlib>=0.7.0->google-auth-oauthlib) (3.0.4)\n"
     ]
    }
   ],
   "source": [
    "!pip install --upgrade google-api-python-client google-auth-httplib2 google-auth-oauthlib"
   ]
  },
  {
   "cell_type": "markdown",
   "metadata": {},
   "source": [
    "# Extra Credit script to add Google Calendar events"
   ]
  },
  {
   "cell_type": "markdown",
   "metadata": {},
   "source": [
    "##Create 'credentials.json' with your username and password https://developers.google.com/calendar/quickstart/python"
   ]
  },
  {
   "cell_type": "code",
   "execution_count": 23,
   "metadata": {},
   "outputs": [
    {
     "name": "stdout",
     "output_type": "stream",
     "text": [
      "Getting the upcoming 10 events\n",
      "2019-09-26T11:30:00-04:00 ORCA Symposium\n",
      "2019-09-26T12:30:00-04:00 ORCA Symposium\n",
      "2019-09-26T15:30:00-04:00 AIAA\n",
      "2019-09-27T21:00:00-04:00 EEG results\n",
      "2019-09-28 Bubble Run\n",
      "2019-09-28T08:00:00-04:00 Fun Run-5K - Individual Registration - 8:00AM Heat\n",
      "2019-09-28T17:00:00-04:00 Play meeting\n",
      "2019-10-01T08:30:00-04:00 Adomako x Mark| run coach\n",
      "2019-10-01T19:00:00-04:00 Register for race SIH\n",
      "2019-10-08T08:30:00-04:00 Adomako x Mark| run coach\n"
     ]
    }
   ],
   "source": [
    "!python quickstart.py"
   ]
  },
  {
   "cell_type": "code",
   "execution_count": null,
   "metadata": {},
   "outputs": [],
   "source": []
  }
 ],
 "metadata": {
  "kernelspec": {
   "display_name": "Python 3",
   "language": "python",
   "name": "python3"
  },
  "language_info": {
   "codemirror_mode": {
    "name": "ipython",
    "version": 3
   },
   "file_extension": ".py",
   "mimetype": "text/x-python",
   "name": "python",
   "nbconvert_exporter": "python",
   "pygments_lexer": "ipython3",
   "version": "3.7.1"
  }
 },
 "nbformat": 4,
 "nbformat_minor": 2
}
